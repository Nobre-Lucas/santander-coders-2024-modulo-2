{
 "cells": [
  {
   "cell_type": "code",
   "execution_count": null,
   "metadata": {},
   "outputs": [],
   "source": [
    "import os\n",
    "import snowflake.connector\n",
    "from dotenv import load_dotenv"
   ]
  },
  {
   "cell_type": "code",
   "execution_count": null,
   "metadata": {},
   "outputs": [],
   "source": [
    "load_dotenv()"
   ]
  },
  {
   "cell_type": "code",
   "execution_count": null,
   "metadata": {},
   "outputs": [],
   "source": [
    "class SnowflakeTableCreator:\n",
    "    def __init__(self):\n",
    "        \"\"\"\n",
    "        Inicializa a classe SnowflakeTableCreator com variáveis de ambiente que armazenam\n",
    "        as credenciais e detalhes de conexão com o Snowflake, como usuário, senha, conta,\n",
    "        warehouse, banco de dados e schema. Também define as propriedades para conexão e cursor.\n",
    "        \"\"\"\n",
    "        self.user = os.getenv(\"SNOWFLAKE_USER\")\n",
    "        self.password = os.getenv(\"SNOWFLAKE_PASSWORD\")\n",
    "        self.account = os.getenv(\"SNOWFLAKE_ACCOUNT_NAME\")\n",
    "        self.warehouse = os.getenv(\"SNOWFLAKE_WAREHOUSE\")\n",
    "        self.database = os.getenv(\"SNOWFLAKE_DATABASE\")\n",
    "        self.schema = os.getenv(\"SNOWFLAKE_SCHEMA\")        \n",
    "        self.connection = None\n",
    "        self.cursor = None\n",
    "\n",
    "    def connect(self):\n",
    "        \"\"\"\n",
    "        Estabelece a conexão com o banco de dados Snowflake utilizando as credenciais e detalhes\n",
    "        de conexão fornecidos durante a inicialização. Armazena a conexão e o cursor para executar\n",
    "        comandos SQL subsequentes.\n",
    "        \"\"\"\n",
    "        self.connection = snowflake.connector.connect(\n",
    "            user=self.user,\n",
    "            password=self.password,\n",
    "            account=self.account,\n",
    "            warehouse=self.warehouse,\n",
    "            database=self.database,\n",
    "            schema=self.schema\n",
    "        )\n",
    "        self.cursor = self.connection.cursor()\n",
    "\n",
    "    def disconnect(self):\n",
    "        \"\"\"\n",
    "        Fecha a conexão e o cursor com o banco de dados Snowflake, caso estejam ativos.\n",
    "        Garante que os recursos sejam liberados após o uso da conexão.\n",
    "        \"\"\"\n",
    "        if self.cursor:\n",
    "            self.cursor.close()\n",
    "        if self.connection:\n",
    "            self.connection.close()\n",
    "\n",
    "    def create_table(self, table: str, create_table_sql: str):\n",
    "        \"\"\"\n",
    "        Cria uma tabela no banco de dados Snowflake utilizando a instrução SQL fornecida. \n",
    "        Se a conexão não estiver ativa, levanta um erro. Em caso de sucesso, confirma a criação \n",
    "        da tabela e imprime uma mensagem. Em caso de erro, imprime a mensagem de erro e realiza\n",
    "        rollback para desfazer qualquer alteração.\n",
    "        \n",
    "        :param table: Nome da tabela a ser criada.\n",
    "        :param create_table_sql: Instrução SQL para criar a tabela no Snowflake.\n",
    "        \"\"\"\n",
    "        if not self.connection or not self.cursor:\n",
    "            raise RuntimeError(\"Conexão com Snowflake não estabelecida. Chame o método 'connect' primeiro.\")\n",
    "                \n",
    "        try:\n",
    "            self.cursor.execute(create_table_sql)\n",
    "            print(f\"Tabela {table} criada com sucesso.\")\n",
    "        except Exception as e:\n",
    "            print(f\"Erro ao criar tabela {table}: {e}\")\n",
    "            self.connection.rollback()"
   ]
  }
 ],
 "metadata": {
  "language_info": {
   "name": "python"
  }
 },
 "nbformat": 4,
 "nbformat_minor": 2
}
