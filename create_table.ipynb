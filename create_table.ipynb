{
 "cells": [
  {
   "cell_type": "code",
   "execution_count": null,
   "metadata": {},
   "outputs": [],
   "source": [
    "%run snowflake_connection.ipynb"
   ]
  },
  {
   "cell_type": "code",
   "execution_count": null,
   "metadata": {},
   "outputs": [],
   "source": [
    "class SnowflakeTableCreator(SnowflakeConnector):\n",
    "    def __init__(self):\n",
    "        \"\"\"\n",
    "        Inicializa a classe SnowflakeTableCreator com variáveis de ambiente que armazenam\n",
    "        as credenciais e detalhes de conexão com o Snowflake, como usuário, senha, conta,\n",
    "        warehouse, banco de dados e schema. Também define as propriedades para conexão e cursor.\n",
    "        \"\"\"\n",
    "        super().__init__()\n",
    "\n",
    "    def create_table(self, table: str, create_table_sql: str):\n",
    "        \"\"\"\n",
    "        Cria uma tabela no banco de dados Snowflake utilizando a instrução SQL fornecida. \n",
    "        Se a conexão não estiver ativa, levanta um erro. Em caso de sucesso, confirma a criação \n",
    "        da tabela e imprime uma mensagem. Em caso de erro, imprime a mensagem de erro e realiza\n",
    "        rollback para desfazer qualquer alteração.\n",
    "        \n",
    "        :param table: Nome da tabela a ser criada.\n",
    "        :param create_table_sql: Instrução SQL para criar a tabela no Snowflake.\n",
    "        \"\"\"\n",
    "        super().connect()\n",
    "        if not self.connection or not self.cursor:\n",
    "            raise RuntimeError(\"Conexão com Snowflake não estabelecida.\")\n",
    "                \n",
    "        try:\n",
    "            self.cursor.execute(create_table_sql)\n",
    "            print(f\"Tabela {table} criada com sucesso.\")\n",
    "        except Exception as e:\n",
    "            print(f\"Erro ao criar tabela {table}: {e}\")\n",
    "            self.connection.rollback()\n",
    "        \n",
    "        super().disconnect()"
   ]
  }
 ],
 "metadata": {
  "language_info": {
   "name": "python"
  }
 },
 "nbformat": 4,
 "nbformat_minor": 2
}
