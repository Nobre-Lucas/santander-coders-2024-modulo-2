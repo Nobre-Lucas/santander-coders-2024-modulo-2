{
 "cells": [
  {
   "cell_type": "code",
   "execution_count": null,
   "metadata": {},
   "outputs": [],
   "source": [
    "import logging"
   ]
  },
  {
   "cell_type": "code",
   "execution_count": null,
   "metadata": {},
   "outputs": [],
   "source": [
    "class Logger():\n",
    "    def __init__(self):\n",
    "        self.format = '%(asctime)s - %(levelname)s - %(message)s'\n",
    "\n",
    "\n",
    "    def set_logger(self):\n",
    "        logging.basicConfig(format=self.format, level=logging.INFO)\n",
    "        logger = logging.getLogger()\n",
    "\n",
    "        return logger   "
   ]
  }
 ],
 "metadata": {
  "language_info": {
   "name": "python"
  }
 },
 "nbformat": 4,
 "nbformat_minor": 2
}
