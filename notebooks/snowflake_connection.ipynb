{
 "cells": [
  {
   "cell_type": "code",
   "execution_count": null,
   "metadata": {},
   "outputs": [],
   "source": [
    "from dotenv import load_dotenv\n",
    "import os\n",
    "import snowflake.connector"
   ]
  },
  {
   "cell_type": "code",
   "execution_count": null,
   "metadata": {},
   "outputs": [],
   "source": [
    "load_dotenv()"
   ]
  },
  {
   "cell_type": "code",
   "execution_count": null,
   "metadata": {},
   "outputs": [],
   "source": [
    "class SnowflakeConnector:\n",
    "    def __init__(self):\n",
    "        self.user = os.getenv(\"SNOWFLAKE_USER\")\n",
    "        self.password = os.getenv(\"SNOWFLAKE_PASSWORD\")\n",
    "        self.account = os.getenv(\"SNOWFLAKE_ACCOUNT_NAME\")\n",
    "        self.warehouse = os.getenv(\"SNOWFLAKE_WAREHOUSE\")\n",
    "        self.database = os.getenv(\"SNOWFLAKE_DATABASE\")\n",
    "        self.schema = os.getenv(\"SNOWFLAKE_SCHEMA\")        \n",
    "        self.connection = None\n",
    "        self.cursor = None  \n",
    "        self.session = None    \n",
    "\n",
    "    def connect(self):\n",
    "        \"\"\"\n",
    "        Estabelece a conexão com o banco de dados Snowflake utilizando as credenciais e detalhes\n",
    "        de conexão fornecidos durante a inicialização. Armazena a conexão e o cursor para executar\n",
    "        comandos SQL subsequentes.\n",
    "        \"\"\"\n",
    "        self.connection = snowflake.connector.connect(\n",
    "            user=self.user,\n",
    "            password=self.password,\n",
    "            account=self.account,\n",
    "            warehouse=self.warehouse,\n",
    "            database=self.database,\n",
    "            schema=self.schema\n",
    "        )\n",
    "        self.cursor = self.connection.cursor()\n",
    "\n",
    "    def disconnect(self):\n",
    "        \"\"\"\n",
    "        Fecha a conexão e o cursor com o banco de dados Snowflake, caso estejam ativos.\n",
    "        Garante que os recursos sejam liberados após o uso da conexão.\n",
    "        \"\"\"\n",
    "        if self.cursor:\n",
    "            self.cursor.close()\n",
    "        if self.connection:\n",
    "            self.connection.close()          "
   ]
  }
 ],
 "metadata": {
  "language_info": {
   "name": "python"
  }
 },
 "nbformat": 4,
 "nbformat_minor": 2
}
