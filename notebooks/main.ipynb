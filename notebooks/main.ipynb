{
 "cells": [
  {
   "cell_type": "code",
   "execution_count": null,
   "metadata": {},
   "outputs": [],
   "source": [
    "!pip3 install -r ../requirements.txt"
   ]
  },
  {
   "cell_type": "code",
   "execution_count": null,
   "metadata": {},
   "outputs": [],
   "source": [
    "%run logging.ipynb"
   ]
  },
  {
   "cell_type": "code",
   "execution_count": null,
   "metadata": {},
   "outputs": [],
   "source": [
    "%run ../schema.py"
   ]
  },
  {
   "cell_type": "code",
   "execution_count": null,
   "metadata": {},
   "outputs": [],
   "source": [
    "%run snowflake_connection.ipynb"
   ]
  },
  {
   "cell_type": "code",
   "execution_count": null,
   "metadata": {},
   "outputs": [],
   "source": [
    "%run load_raw_table.ipynb"
   ]
  },
  {
   "cell_type": "code",
   "execution_count": null,
   "metadata": {},
   "outputs": [],
   "source": [
    "%run create_table.ipynb"
   ]
  },
  {
   "cell_type": "code",
   "execution_count": null,
   "metadata": {
    "application/vnd.databricks.v1+cell": {
     "cellMetadata": {},
     "inputWidgets": {},
     "nuid": "c2b5afd7-77fe-4d5c-a286-8a297a836d67",
     "showTitle": false,
     "title": ""
    }
   },
   "outputs": [],
   "source": [
    "# Importando as bibliotecas\n",
    "import requests\n",
    "import zipfile\n",
    "import io\n",
    "import os\n",
    "import pandas as pd\n",
    "from typing import Optional, Dict\n",
    "from dotenv import load_dotenv"
   ]
  },
  {
   "cell_type": "code",
   "execution_count": null,
   "metadata": {},
   "outputs": [],
   "source": [
    "load_dotenv()"
   ]
  },
  {
   "cell_type": "code",
   "execution_count": null,
   "metadata": {
    "application/vnd.databricks.v1+cell": {
     "cellMetadata": {},
     "inputWidgets": {},
     "nuid": "910a4984-cefd-4e97-9f38-fd466477df43",
     "showTitle": false,
     "title": ""
    }
   },
   "outputs": [],
   "source": [
    "class UrbanMobilityData:\n",
    "    def __init__(self, url: str):\n",
    "        \"\"\"\n",
    "        Inicializa a classe com a URL do arquivo zip.\n",
    "\n",
    "        :param url: URL do arquivo zipado do Kaggle.\n",
    "        \"\"\"\n",
    "        self.url = url\n",
    "        self.file_paths = {\n",
    "            \"Household\": \"Household.csv\",\n",
    "            \"Person\": \"Person.csv\",\n",
    "            \"Stage\": \"Stage.csv\",\n",
    "            \"Trip\": \"Trip.csv\"\n",
    "        }\n",
    "        self.logger_class = Logger()\n",
    "        self.logger = self.logger_class.set_logger()            \n",
    "\n",
    "    def download_zip(self) -> Optional[bytes]:\n",
    "        \"\"\"\n",
    "        Faz o download do arquivo zipado da URL fornecida.\n",
    "\n",
    "        :return: Conteúdo do arquivo zipado em bytes, ou None em caso de erro.\n",
    "        \"\"\"\n",
    "        try:\n",
    "            response = requests.get(self.url)\n",
    "            if response.status_code == 200:\n",
    "                return response.content\n",
    "            else:\n",
    "                self.logger.error(f\"Falha ao fazer o download dos arquivos. Status code: {response.status_code}\")\n",
    "                return None\n",
    "        except Exception as e:\n",
    "            self.logger.error(f\"Erro ao baixar o arquivo: {e}\")\n",
    "            return None\n",
    "\n",
    "    def extract_zip_to_dataframes(self, zip_content: bytes) -> Dict[str, Optional[pd.DataFrame]]:\n",
    "        \"\"\"\n",
    "        Extrai o conteúdo do arquivo zipado e carrega os arquivos CSV em DataFrames.\n",
    "\n",
    "        :param zip_content: Conteúdo do arquivo zipado em bytes.\n",
    "        :return: Dicionário onde as chaves são os nomes dos arquivos e os valores são os DataFrames ou None.\n",
    "        \"\"\"\n",
    "        dataframes = {}\n",
    "        try:\n",
    "            with zipfile.ZipFile(io.BytesIO(zip_content), 'r') as zip_ref:\n",
    "                for file_name in zip_ref.namelist():\n",
    "                    if file_name in self.file_paths.values():\n",
    "                        with zip_ref.open(file_name) as file:\n",
    "                            df = pd.read_csv(file, sep=';', on_bad_lines='skip')\n",
    "                            key = [k for k, v in self.file_paths.items() if v == file_name][0]\n",
    "                            dataframes[key] = df\n",
    "                            self.logger.info(f\"DataFrame {key} carregado com sucesso\")\n",
    "        except Exception as e:\n",
    "            self.logger.error(f\"Erro ao processar o arquivo zipado: {e}\")\n",
    "        return dataframes"
   ]
  },
  {
   "cell_type": "code",
   "execution_count": null,
   "metadata": {},
   "outputs": [],
   "source": [
    "if __name__ == \"__main__\":\n",
    "    url = os.getenv(\"URL\")\n",
    "    logger_class = Logger()\n",
    "    logger = logger_class.set_logger()    \n",
    "    data_handler = UrbanMobilityData(url)\n",
    "    create_table = SnowflakeTableCreator()\n",
    "\n",
    "\n",
    "    # Fazendo o download do arquivo zip\n",
    "    zip_content = data_handler.download_zip()\n",
    "    if zip_content:\n",
    "        # Extraindo o conteúdo do arquivo zip e carregando os DataFrames\n",
    "        dataframes = data_handler.extract_zip_to_dataframes(zip_content)\n",
    "\n",
    "        for name, df in dataframes.items():\n",
    "            if df is not None:\n",
    "                logger.info(name)\n",
    "\n",
    "                handler = SnowflakeHandlerRaw()\n",
    "\n",
    "                target_table_location = name.upper()\n",
    "\n",
    "                match name.upper():\n",
    "                    case 'PERSON':\n",
    "                        create_table.create_table(target_table_location, table_person)\n",
    "                    case 'HOUSEHOLD':\n",
    "                        create_table.create_table(target_table_location, table_household)\n",
    "                    case 'STAGE':\n",
    "                        create_table.create_table(target_table_location, table_stage)\n",
    "                    case 'TRIP':\n",
    "                        create_table.create_table(target_table_location, table_trip)\n",
    "\n",
    "                expected_columns = [c.upper() for c in df.columns]\n",
    "\n",
    "                handler.save_dataframe(df, target_table_location, expected_columns)"
   ]
  },
  {
   "cell_type": "code",
   "execution_count": null,
   "metadata": {},
   "outputs": [],
   "source": []
  }
 ],
 "metadata": {
  "application/vnd.databricks.v1+notebook": {
   "dashboards": [],
   "environmentMetadata": null,
   "language": "python",
   "notebookMetadata": {
    "pythonIndentUnit": 4
   },
   "notebookName": "main",
   "widgets": {}
  },
  "kernelspec": {
   "display_name": "base",
   "language": "python",
   "name": "python3"
  },
  "language_info": {
   "codemirror_mode": {
    "name": "ipython",
    "version": 3
   },
   "file_extension": ".py",
   "mimetype": "text/x-python",
   "name": "python",
   "nbconvert_exporter": "python",
   "pygments_lexer": "ipython3",
   "version": "3.10.9"
  }
 },
 "nbformat": 4,
 "nbformat_minor": 0
}
