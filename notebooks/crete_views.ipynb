{
 "cells": [
  {
   "cell_type": "code",
   "execution_count": null,
   "metadata": {},
   "outputs": [],
   "source": [
    "%run snowflake_connection.ipynb"
   ]
  },
  {
   "cell_type": "code",
   "execution_count": null,
   "metadata": {},
   "outputs": [],
   "source": [
    "%run ../views_schema.py"
   ]
  },
  {
   "cell_type": "code",
   "execution_count": null,
   "metadata": {},
   "outputs": [],
   "source": [
    "class SnowflakeViewCreator(SnowflakeConnector):\n",
    "    def __init__(self):\n",
    "        \"\"\"\n",
    "        Inicializa a classe SnowflakeTableCreator com variáveis de ambiente que armazenam\n",
    "        as credenciais e detalhes de conexão com o Snowflake, como usuário, senha, conta,\n",
    "        warehouse, banco de dados e schema. Também define as propriedades para conexão e cursor.\n",
    "        \"\"\"\n",
    "        super().__init__()\n",
    "\n",
    "    def create_view(self, view_name: str, view_schema: str):\n",
    "        \"\"\"\n",
    "        Cria uma tabela no banco de dados Snowflake utilizando a instrução SQL fornecida. \n",
    "        Se a conexão não estiver ativa, levanta um erro. Em caso de sucesso, confirma a criação \n",
    "        da tabela e imprime uma mensagem. Em caso de erro, imprime a mensagem de erro e realiza\n",
    "        rollback para desfazer qualquer alteração.\n",
    "        \n",
    "        :param table: Nome da tabela a ser criada.\n",
    "        :param create_table_sql: Instrução SQL para criar a tabela no Snowflake.\n",
    "        \"\"\"\n",
    "        super().connect()\n",
    "        if not self.connection or not self.cursor:\n",
    "            raise RuntimeError(\"Conexão com Snowflake não estabelecida.\")\n",
    "                \n",
    "        try:\n",
    "            self.cursor.execute(view_schema)\n",
    "            print(f\"View {view_name} criada com sucesso.\")\n",
    "        except Exception as e:\n",
    "            print(f\"Erro ao criar view {view_name}: {e}\")\n",
    "            self.connection.rollback()\n",
    "        \n",
    "        super().disconnect()"
   ]
  },
  {
   "cell_type": "code",
   "execution_count": null,
   "metadata": {},
   "outputs": [],
   "source": [
    "if __name__ == \"__main__\":\n",
    "   view_name = input(\"Nome da view a ser criada: \")\n",
    "   if view_name in views_schema.keys():\n",
    "      try:\n",
    "         create_view = SnowflakeViewCreator() \n",
    "         create_view.create_view(view_name, views_schema[view_name])\n",
    "      except Exception as e:\n",
    "         raise RuntimeError(\"Problema na criação da view.\")\n",
    "      \n",
    "   else:\n",
    "      print(\"Nome da view inexistem no arquivo vews_schema\")\n",
    "      "
   ]
  },
  {
   "cell_type": "code",
   "execution_count": null,
   "metadata": {},
   "outputs": [],
   "source": []
  }
 ],
 "metadata": {
  "kernelspec": {
   "display_name": "base",
   "language": "python",
   "name": "python3"
  },
  "language_info": {
   "codemirror_mode": {
    "name": "ipython",
    "version": 3
   },
   "file_extension": ".py",
   "mimetype": "text/x-python",
   "name": "python",
   "nbconvert_exporter": "python",
   "pygments_lexer": "ipython3",
   "version": "3.10.9"
  }
 },
 "nbformat": 4,
 "nbformat_minor": 2
}
