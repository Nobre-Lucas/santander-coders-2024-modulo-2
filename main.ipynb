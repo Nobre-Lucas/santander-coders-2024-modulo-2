{
 "cells": [
  {
   "cell_type": "code",
   "execution_count": 0,
   "metadata": {
    "application/vnd.databricks.v1+cell": {
     "cellMetadata": {},
     "inputWidgets": {},
     "nuid": "c2b5afd7-77fe-4d5c-a286-8a297a836d67",
     "showTitle": false,
     "title": ""
    }
   },
   "outputs": [],
   "source": [
    "# Importando as bibliotecas\n",
    "import requests\n",
    "import zipfile\n",
    "import io\n",
    "import os\n",
    "import pandas as pd"
   ]
  },
  {
   "cell_type": "code",
   "execution_count": 0,
   "metadata": {
    "application/vnd.databricks.v1+cell": {
     "cellMetadata": {
      "byteLimit": 2048000,
      "rowLimit": 10000
     },
     "inputWidgets": {},
     "nuid": "dfe7d1d1-4af1-469b-a4ca-6eb7475df4d7",
     "showTitle": false,
     "title": ""
    }
   },
   "outputs": [
    {
     "output_type": "stream",
     "name": "stdout",
     "output_type": "stream",
     "text": [
      "Files extracted successfully\nExtracted: Household.csv\nExtracted: Person.csv\nExtracted: Stage.csv\nExtracted: Trip.csv\n"
     ]
    }
   ],
   "source": [
    "# URL do arquivo zipado do kaggle\n",
    "url = \"https://www.kaggle.com/api/v1/datasets/download/danielefm/urban-mobility-survey-federal-district-brazil?datasetVersionNumber=1\"\n",
    "\n",
    "# Fazendo o request via metodo GET\n",
    "response = requests.get(url)\n",
    "\n",
    "# Garantindo o sucesso da solicitação \n",
    "if response.status_code == 200:\n",
    "    # Criando um objeto BytesIO para armazenar o conteúdo do arquivo zipado\n",
    "    zip_file = io.BytesIO(response.content)\n",
    "\n",
    "    # Criar o objeto ZipFile para let o conteúdo do arquivo zipado\n",
    "    with zipfile.ZipFile(zip_file, 'r') as zip_ref:\n",
    "        # Extraindo o conteúdo do arquivo zipado\n",
    "        zip_ref.extractall(\"urban_mobility_data\")\n",
    "        print(\"Files extracted successfully\")\n",
    "\n",
    "        # Listar todos os arquivos extraidos para verificar a extração por CSV\n",
    "        extracted_files = zip_ref.namelist()\n",
    "        for file in extracted_files:\n",
    "            print(f\"Extracted: {file}\")\n",
    "else:\n",
    "    print(f\"Falha ao fazer o download dos arquivos. Status code: {response.status_code}\")\n"
   ]
  },
  {
   "cell_type": "code",
   "execution_count": 0,
   "metadata": {
    "application/vnd.databricks.v1+cell": {
     "cellMetadata": {
      "byteLimit": 2048000,
      "rowLimit": 10000
     },
     "inputWidgets": {},
     "nuid": "3b0054a8-ef85-4e40-96f6-815942d07937",
     "showTitle": false,
     "title": ""
    }
   },
   "outputs": [
    {
     "output_type": "stream",
     "name": "stdout",
     "output_type": "stream",
     "text": [
      "Household DataFrame:\n   household_id  people_in_household  ...  macrozone  administrative_region\n0             3                    2  ...        315             Taguatinga\n1             4                    4  ...        315             Taguatinga\n2             7                    3  ...        315             Taguatinga\n3            22                    3  ...        315             Taguatinga\n4            35                    3  ...        222                  Guará\n\n[5 rows x 20 columns]\n\nPerson DataFrame:\n   person_id  household_id  ... sector_if_civil_servant expf_person\n0          1             3  ...          Not applicable     35.6286\n1          2             3  ...          Not applicable     35.6286\n2          3             4  ...          Not applicable     32.6147\n3          4             4  ...          Not applicable     32.6147\n4          5             4  ...          Not applicable     32.6147\n\n[5 rows x 11 columns]\n\nStage DataFrame:\n   stage_id  household_id  ...  arrival_station      stage_cost\n0         1             3  ...   not applicable  not applicable\n1         2             3  ...   not applicable  not applicable\n2         3             3  ...   not applicable               3\n3         4             3  ...   not applicable               3\n4         5             4  ...   not applicable  not applicable\n\n[5 rows x 11 columns]\n\nTrip DataFrame:\n   trip_id  household_id  person_id  ...  other_modes  expf_trip expf_trip_adjusted\n0        1             3          1  ...            0    35.6286            35.6286\n1        2             3          1  ...            0    35.6286            35.6286\n2        3             3          2  ...            0    35.6286            35.6286\n3        4             3          2  ...            0    35.6286            35.6286\n4        5             4          3  ...            0    32.6147            32.6147\n\n[5 rows x 49 columns]\n"
     ]
    }
   ],
   "source": [
    "# Definindo o diretório onde os arquivos serão extraídos\n",
    "directory = \"urban_mobility_data\"\n",
    "\n",
    "# Definindo os caminhos dos arquivos\n",
    "household_file = os.path.join(directory, \"Household.csv\")\n",
    "person_file = os.path.join(directory, \"Person.csv\")\n",
    "stage_file = os.path.join(directory, \"Stage.csv\")\n",
    "trip_file = os.path.join(directory, \"Trip.csv\")\n",
    "\n",
    "# Função para carregar os arquivos CSV \n",
    "def load_csv_with_error_handling(file_path, delimiter=';'):\n",
    "    try:\n",
    "        df = pd.read_csv(file_path, sep=delimiter, on_bad_lines='skip')\n",
    "        return df\n",
    "    except Exception as e:\n",
    "        print(f\"Error loading {file_path}: {e}\")\n",
    "        return None\n",
    "\n",
    "# Carregando os arquivos CSV em DataFrames\n",
    "household_df = load_csv_with_error_handling(household_file)\n",
    "person_df = load_csv_with_error_handling(person_file)\n",
    "stage_df = load_csv_with_error_handling(stage_file)\n",
    "trip_df = load_csv_with_error_handling(trip_file)\n",
    "\n",
    "# Fazendo display de cada DataFrame para análise\n",
    "if household_df is not None:\n",
    "    print(\"Household DataFrame:\")\n",
    "    print(household_df.head())\n",
    "\n",
    "if person_df is not None:\n",
    "    print(\"\\nPerson DataFrame:\")\n",
    "    print(person_df.head())\n",
    "\n",
    "if stage_df is not None:\n",
    "    print(\"\\nStage DataFrame:\")\n",
    "    print(stage_df.head())\n",
    "\n",
    "if trip_df is not None:\n",
    "    print(\"\\nTrip DataFrame:\")\n",
    "    print(trip_df.head())\n"
   ]
  },
  {
   "cell_type": "code",
   "execution_count": 0,
   "metadata": {
    "application/vnd.databricks.v1+cell": {
     "cellMetadata": {},
     "inputWidgets": {},
     "nuid": "910a4984-cefd-4e97-9f38-fd466477df43",
     "showTitle": false,
     "title": ""
    }
   },
   "outputs": [],
   "source": []
  }
 ],
 "metadata": {
  "application/vnd.databricks.v1+notebook": {
   "dashboards": [],
   "environmentMetadata": null,
   "language": "python",
   "notebookMetadata": {
    "pythonIndentUnit": 4
   },
   "notebookName": "main",
   "widgets": {}
  }
 },
 "nbformat": 4,
 "nbformat_minor": 0
}
