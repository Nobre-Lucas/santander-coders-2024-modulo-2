{
 "cells": [
  {
   "cell_type": "code",
   "execution_count": 4,
   "metadata": {
    "application/vnd.databricks.v1+cell": {
     "cellMetadata": {},
     "inputWidgets": {},
     "nuid": "c2b5afd7-77fe-4d5c-a286-8a297a836d67",
     "showTitle": false,
     "title": ""
    }
   },
   "outputs": [],
   "source": [
    "# Importando as bibliotecas\n",
    "import os\n",
    "import io\n",
    "import zipfile\n",
    "import requests\n",
    "import pandas as pd\n",
    "from typing import Optional, Dict"
   ]
  },
  {
   "cell_type": "code",
   "execution_count": 5,
   "metadata": {
    "application/vnd.databricks.v1+cell": {
     "cellMetadata": {},
     "inputWidgets": {},
     "nuid": "910a4984-cefd-4e97-9f38-fd466477df43",
     "showTitle": false,
     "title": ""
    }
   },
   "outputs": [],
   "source": [
    "class UrbanMobilityData:\n",
    "    def __init__(self, url: str):\n",
    "        \"\"\"\n",
    "        Inicializa a classe com a URL do arquivo zip.\n",
    "\n",
    "        :param url: URL do arquivo zipado do Kaggle.\n",
    "        \"\"\"\n",
    "        self.url = url\n",
    "        self.file_paths = {\n",
    "            \"Household\": \"Household.csv\",\n",
    "            \"Person\": \"Person.csv\",\n",
    "            \"Stage\": \"Stage.csv\",\n",
    "            \"Trip\": \"Trip.csv\"\n",
    "        }\n",
    "\n",
    "    def download_zip(self) -> Optional[bytes]:\n",
    "        \"\"\"\n",
    "        Faz o download do arquivo zipado da URL fornecida.\n",
    "\n",
    "        :return: Conteúdo do arquivo zipado em bytes, ou None em caso de erro.\n",
    "        \"\"\"\n",
    "        try:\n",
    "            response = requests.get(self.url)\n",
    "            if response.status_code == 200:\n",
    "                return response.content\n",
    "            else:\n",
    "                print(f\"Falha ao fazer o download dos arquivos. Status code: {response.status_code}\")\n",
    "                return None\n",
    "        except Exception as e:\n",
    "            print(f\"Erro ao baixar o arquivo: {e}\")\n",
    "            return None\n",
    "\n",
    "    def extract_zip_to_dataframes(self, zip_content: bytes) -> Dict[str, Optional[pd.DataFrame]]:\n",
    "        \"\"\"\n",
    "        Extrai o conteúdo do arquivo zipado e carrega os arquivos CSV em DataFrames.\n",
    "\n",
    "        :param zip_content: Conteúdo do arquivo zipado em bytes.\n",
    "        :return: Dicionário onde as chaves são os nomes dos arquivos e os valores são os DataFrames ou None.\n",
    "        \"\"\"\n",
    "        dataframes = {}\n",
    "        try:\n",
    "            with zipfile.ZipFile(io.BytesIO(zip_content), 'r') as zip_ref:\n",
    "                for file_name in zip_ref.namelist():\n",
    "                    if file_name in self.file_paths.values():\n",
    "                        with zip_ref.open(file_name) as file:\n",
    "                            df = pd.read_csv(file, sep=';', on_bad_lines='skip')\n",
    "                            key = [k for k, v in self.file_paths.items() if v == file_name][0]\n",
    "                            dataframes[key] = df\n",
    "                            print(f\"DataFrame {key} carregado com sucesso\")\n",
    "        except Exception as e:\n",
    "            print(f\"Erro ao processar o arquivo zipado: {e}\")\n",
    "        return dataframes"
   ]
  },
  {
   "cell_type": "code",
   "execution_count": 7,
   "metadata": {},
   "outputs": [
    {
     "name": "stdout",
     "output_type": "stream",
     "text": [
      "DataFrame Household carregado com sucesso\n",
      "DataFrame Person carregado com sucesso\n",
      "DataFrame Stage carregado com sucesso\n",
      "DataFrame Trip carregado com sucesso\n",
      "\n",
      "Household DataFrame:\n",
      "Index(['household_id', 'people_in_household', 'bathrooms', 'bedrooms',\n",
      "       'vehicles', 'bicycles', 'motorcycles', 'dwelling_type', 'income',\n",
      "       'household_tenure', 'piped_water_supply', 'street_pavement',\n",
      "       'private_parking_space', 'year_of_newest_vehicle', 'domestic_worker',\n",
      "       'cable_tv', 'social_assistence', 'expf_household', 'macrozone',\n",
      "       'administrative_region'],\n",
      "      dtype='object')\n",
      "\n",
      "Person DataFrame:\n",
      "Index(['person_id', 'household_id', 'age', 'gender', 'education_level',\n",
      "       'area_of_occupation', 'has_driver_license', 'is_disabled',\n",
      "       'sector_if_private_worker', 'sector_if_civil_servant', 'expf_person'],\n",
      "      dtype='object')\n",
      "\n",
      "Stage DataFrame:\n",
      "Index(['stage_id', 'household_id', 'person_id', 'trip_id', 'mode', 'payment',\n",
      "       'parking_type', 'bus_route', 'boarding_station', 'arrival_station',\n",
      "       'stage_cost'],\n",
      "      dtype='object')\n",
      "\n",
      "Trip DataFrame:\n",
      "Index(['trip_id', 'household_id', 'person_id', 'tz_origin', 'tz_destination',\n",
      "       'ar_origin', 'ar_destination', 'mode_category', 'mode_type',\n",
      "       'activity_origin', 'activity_destination', 'activity_origin_companion',\n",
      "       'activity_destination_companion', 'trip_activity',\n",
      "       'trip_activity_category', 'trip_activity_consolidated',\n",
      "       'trip_activity_consolidated_category', 'origin_time',\n",
      "       'destination_time', 'trip_less_than_500m', 'trip_duration',\n",
      "       'includes_walk', 'includes_bicycle', 'includes_subway', 'includes_brt',\n",
      "       'includes_bus', 'includes_unlicensed_service',\n",
      "       'includes_private_charter', 'includes_school_bus',\n",
      "       'includes_car_as_driver', 'includes_car_as_passenger',\n",
      "       'includes_motorcycle_as_driver', 'includes_motorcycle_as_passenger',\n",
      "       'includes_taxi', 'includes_motorbicycle_taxi',\n",
      "       'includes_private_driver', 'includes_other_modes',\n",
      "       'includes_active_transportation', 'includes_individual_transportation',\n",
      "       'includes_collective_transportation', 'active_transport_walk',\n",
      "       'active_transport_bicycle', 'collective_public_transport',\n",
      "       'collective_private_transport', 'individual_private_transport',\n",
      "       'individual_public_transport', 'other_modes', 'expf_trip',\n",
      "       'expf_trip_adjusted'],\n",
      "      dtype='object')\n"
     ]
    }
   ],
   "source": [
    "if __name__ == \"__main__\":\n",
    "    url = \"https://www.kaggle.com/api/v1/datasets/download/danielefm/urban-mobility-survey-federal-district-brazil?datasetVersionNumber=1\"\n",
    "\n",
    "    # Instanciando a classe\n",
    "    data_handler = UrbanMobilityData(url)\n",
    "\n",
    "    # Fazendo o download do arquivo zip\n",
    "    zip_content = data_handler.download_zip()\n",
    "    if zip_content:\n",
    "        # Extraindo o conteúdo do arquivo zip e carregando os DataFrames\n",
    "        dataframes = data_handler.extract_zip_to_dataframes(zip_content)\n",
    "\n",
    "        # Exibindo os DataFrames carregados\n",
    "        for name, df in dataframes.items():\n",
    "            if df is not None:\n",
    "                print(f\"\\n{name} DataFrame:\")\n",
    "                print(df.columns)\n"
   ]
  },
  {
   "cell_type": "code",
   "execution_count": 8,
   "metadata": {},
   "outputs": [
    {
     "ename": "NameError",
     "evalue": "name 'Person' is not defined",
     "output_type": "error",
     "traceback": [
      "\u001b[0;31m---------------------------------------------------------------------------\u001b[0m",
      "\u001b[0;31mNameError\u001b[0m                                 Traceback (most recent call last)",
      "Cell \u001b[0;32mIn[8], line 1\u001b[0m\n\u001b[0;32m----> 1\u001b[0m \u001b[43mPerson\u001b[49m\u001b[38;5;241m.\u001b[39mhead()\n",
      "\u001b[0;31mNameError\u001b[0m: name 'Person' is not defined"
     ]
    }
   ],
   "source": [
    "Person.head()"
   ]
  },
  {
   "cell_type": "code",
   "execution_count": null,
   "metadata": {},
   "outputs": [],
   "source": []
  }
 ],
 "metadata": {
  "application/vnd.databricks.v1+notebook": {
   "dashboards": [],
   "environmentMetadata": null,
   "language": "python",
   "notebookMetadata": {
    "pythonIndentUnit": 4
   },
   "notebookName": "main",
   "widgets": {}
  },
  "kernelspec": {
   "display_name": "base",
   "language": "python",
   "name": "python3"
  },
  "language_info": {
   "codemirror_mode": {
    "name": "ipython",
    "version": 3
   },
   "file_extension": ".py",
   "mimetype": "text/x-python",
   "name": "python",
   "nbconvert_exporter": "python",
   "pygments_lexer": "ipython3",
   "version": "3.10.9"
  }
 },
 "nbformat": 4,
 "nbformat_minor": 0
}
